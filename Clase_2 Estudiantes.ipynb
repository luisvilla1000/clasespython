{
 "cells": [
  {
   "cell_type": "markdown",
   "metadata": {},
   "source": [
    "# **Introducción al análisis de datos en Python**, Juan Moreno, Julián Chitiva y Mateo Dulce"
   ]
  },
  {
   "cell_type": "markdown",
   "metadata": {},
   "source": [
    "# Clase 2: Introducción Python (2)\n",
    "El objetivo de este clase es concluir la introducción a Python y jupyter:\n",
    "- Familiarizarnos con los últimos objetos _built-in_ Python. \n",
    "- Condicionales (if, elif, else).\n",
    "- Loops (for, while).\n",
    "- Funciones.\n",
    "- Magic Functions.\n",
    "\n",
    "\n"
   ]
  },
  {
   "cell_type": "markdown",
   "metadata": {},
   "source": [
    "### Listas\n",
    "1. Construya una lista solo con números llamada lista_1.\n",
    "2. Extraiga e imprima el primer elemento de la lista (recuerde que en Python se comienza desde la posición 0).\n",
    "3. Extraiga e imprima el último elemento de la lista: para hacer esto no es necesario saber el tamaño de la lista.\n",
    "4. Extraiga e imprima los dos primeros elementos.\n",
    "5. Extraiga e imprima los elementos en posiciones impares."
   ]
  },
  {
   "cell_type": "code",
   "execution_count": null,
   "metadata": {},
   "outputs": [],
   "source": []
  },
  {
   "cell_type": "markdown",
   "metadata": {},
   "source": [
    "## Funciones internas\n",
    "### Matemáticas\n",
    "1. Para qué sirve _abs()_\n",
    "2. Para qué sirve _max()_\n",
    "3. Para qué sirve _min()_\n",
    "4. Para qué sirve _sum()_\n"
   ]
  },
  {
   "cell_type": "code",
   "execution_count": null,
   "metadata": {},
   "outputs": [],
   "source": []
  },
  {
   "cell_type": "markdown",
   "metadata": {},
   "source": [
    "### Iterables\n",
    "1. Para qué sirve _all()_\n",
    "3. Para qué sirve _any()_\n",
    "3. Para qué sirve _len()_"
   ]
  },
  {
   "cell_type": "code",
   "execution_count": null,
   "metadata": {},
   "outputs": [],
   "source": []
  },
  {
   "cell_type": "markdown",
   "metadata": {},
   "source": [
    "### Métodos de las listas\n",
    "Pruebe los siguientes métodos de listas y diga para qué sirven:\n",
    "1. .sort()\n",
    "2. .append()\n",
    "3. .remove()\n",
    "4. reverse()\n",
    "5. index()"
   ]
  },
  {
   "cell_type": "code",
   "execution_count": null,
   "metadata": {},
   "outputs": [],
   "source": []
  },
  {
   "cell_type": "code",
   "execution_count": null,
   "metadata": {},
   "outputs": [],
   "source": []
  },
  {
   "cell_type": "code",
   "execution_count": null,
   "metadata": {},
   "outputs": [],
   "source": []
  },
  {
   "cell_type": "code",
   "execution_count": null,
   "metadata": {},
   "outputs": [],
   "source": []
  },
  {
   "cell_type": "code",
   "execution_count": null,
   "metadata": {},
   "outputs": [],
   "source": []
  },
  {
   "cell_type": "markdown",
   "metadata": {},
   "source": [
    "6. Usando _.index()_ ¿cómo podría encontrar la posición donde esté el máximo de una lista?"
   ]
  },
  {
   "cell_type": "code",
   "execution_count": null,
   "metadata": {},
   "outputs": [],
   "source": []
  },
  {
   "cell_type": "markdown",
   "metadata": {},
   "source": [
    "### Diccionarios\n",
    "1. Defina \"a\" como un entero y \"b\" como un caracter.\n",
    "2. Defina un dictionario llamado dict_1 donde incluya un número (float), \"a\", \"b\" y lista_1\n",
    "3. Accedamos a los elementos"
   ]
  },
  {
   "cell_type": "code",
   "execution_count": null,
   "metadata": {},
   "outputs": [],
   "source": []
  },
  {
   "cell_type": "code",
   "execution_count": null,
   "metadata": {},
   "outputs": [],
   "source": []
  },
  {
   "cell_type": "markdown",
   "metadata": {},
   "source": [
    "4. Acceda al elemento del diccionario llamado \"lista\" y extraiga el último elemento de la lista\n",
    "5. Añada un nuevo elemento al diccionario llamado \"nuevo\" que sea en caracteres la fecha de hoy.\n"
   ]
  },
  {
   "cell_type": "code",
   "execution_count": null,
   "metadata": {},
   "outputs": [],
   "source": []
  },
  {
   "cell_type": "markdown",
   "metadata": {},
   "source": [
    "### Métodos de los diccionarios\n",
    "1. _get()_\n",
    "2. _items()_\n",
    "3. _keys()_\n",
    "4. _values()_"
   ]
  },
  {
   "cell_type": "code",
   "execution_count": null,
   "metadata": {},
   "outputs": [],
   "source": []
  },
  {
   "cell_type": "code",
   "execution_count": null,
   "metadata": {},
   "outputs": [],
   "source": []
  },
  {
   "cell_type": "code",
   "execution_count": null,
   "metadata": {},
   "outputs": [],
   "source": []
  },
  {
   "cell_type": "code",
   "execution_count": null,
   "metadata": {},
   "outputs": [],
   "source": []
  },
  {
   "cell_type": "markdown",
   "metadata": {},
   "source": [
    "### Conversión\n",
    "1. Para qué sirve _type()_\n",
    "1. Para qué sirve _float()_\n",
    "2. Para qué sirve _integer()_\n",
    "3. Para qué sirve _str()_\n"
   ]
  },
  {
   "cell_type": "code",
   "execution_count": null,
   "metadata": {},
   "outputs": [],
   "source": []
  },
  {
   "cell_type": "markdown",
   "metadata": {},
   "source": [
    "### Composición de tipos de datos\n",
    "1. Para qué sirve _list()_\n",
    "2. Para qué sirve _tuple()_\n",
    "3. Para qué sirve _set()_\n",
    "4. Para qué sirve _dict()_"
   ]
  },
  {
   "cell_type": "markdown",
   "metadata": {},
   "source": [
    "### Miscelania\n",
    "1. Para qué sirve _help()_"
   ]
  },
  {
   "cell_type": "code",
   "execution_count": null,
   "metadata": {},
   "outputs": [],
   "source": []
  },
  {
   "cell_type": "markdown",
   "metadata": {},
   "source": [
    "### Paquetes\n",
    "1. Instale el paquete numpy desde Jupyter. "
   ]
  },
  {
   "cell_type": "code",
   "execution_count": null,
   "metadata": {},
   "outputs": [],
   "source": []
  },
  {
   "cell_type": "markdown",
   "metadata": {},
   "source": [
    "2. Importe numpy como np\n"
   ]
  },
  {
   "cell_type": "code",
   "execution_count": null,
   "metadata": {},
   "outputs": [],
   "source": []
  },
  {
   "cell_type": "markdown",
   "metadata": {},
   "source": [
    "1. Cree e imprima la variable \"muestra\" que corresponde un entero aleatorio entre 0 y 1000 creado con [np.random.randint] (https://docs.scipy.org/doc/numpy-1.15.1/reference/generated/numpy.random.randint.html)\n",
    "2. Cree una objeto llamado \"muestras\" que tenga 15 enteros aleatorios entre 0 y 1000 **en una sola línea de código**.\n",
    "3. Explore algunas de las funciones de numpy:\n",
    "    - _np.sum()_\n",
    "    - _np.max()_\n",
    "    - _np.min()_\n",
    "    - _np.argmax()_"
   ]
  },
  {
   "cell_type": "code",
   "execution_count": null,
   "metadata": {},
   "outputs": [],
   "source": []
  },
  {
   "cell_type": "code",
   "execution_count": null,
   "metadata": {},
   "outputs": [],
   "source": []
  },
  {
   "cell_type": "code",
   "execution_count": null,
   "metadata": {},
   "outputs": [],
   "source": []
  },
  {
   "cell_type": "markdown",
   "metadata": {},
   "source": [
    "#### NumPy array\n",
    "1. Cree un array numérico.\n",
    "2. Array de ceros.\n",
    "3. Array de unos.\n",
    "4. Array de enteros aleatorios.\n",
    "5. Array de números equidistantes."
   ]
  },
  {
   "cell_type": "code",
   "execution_count": null,
   "metadata": {},
   "outputs": [],
   "source": []
  },
  {
   "cell_type": "code",
   "execution_count": null,
   "metadata": {},
   "outputs": [],
   "source": []
  },
  {
   "cell_type": "markdown",
   "metadata": {},
   "source": [
    "6. Cree un array multidimensional de números aleatorios."
   ]
  },
  {
   "cell_type": "code",
   "execution_count": null,
   "metadata": {},
   "outputs": [],
   "source": []
  },
  {
   "cell_type": "markdown",
   "metadata": {},
   "source": [
    "1. Cree dos arrays con numeros enteros aleatorios.\n",
    "2. Extraiga elementos de sus arrays.\n",
    "3. Realice operaciones vectoriales.\n",
    "4. Pruebe las funciones: _np.add()_, _np.multiply()_, _np.power()_, _np.cumsum()_, _np.dot()_ "
   ]
  },
  {
   "cell_type": "code",
   "execution_count": null,
   "metadata": {},
   "outputs": [],
   "source": []
  },
  {
   "cell_type": "markdown",
   "metadata": {},
   "source": [
    "5. Grafique la función seno"
   ]
  },
  {
   "cell_type": "code",
   "execution_count": null,
   "metadata": {},
   "outputs": [],
   "source": [
    "%matplotlib inline\n",
    "import matplotlib.pyplot as plt"
   ]
  },
  {
   "cell_type": "code",
   "execution_count": null,
   "metadata": {},
   "outputs": [],
   "source": []
  },
  {
   "cell_type": "markdown",
   "metadata": {},
   "source": [
    "## Condicionales\n",
    "1. Construya un condicional **if** que retorne un mensaje si un entero aleatorio entre 0 y 10 es mayor a 5\n",
    "2. Construya un condicional **else**. Retorne un mensaje si un entero aleatorio entre 0 y 10 es mayor a 5, en caso de no serlo también despliegue un mensaje especificándolo\n",
    "3. Construya un condicional **elif**. Retorne un mensaje si un entero aleatorio entre 0 y 10 es mayor a 5 pero menor a 8. Retorne otro mensaje si es mayor o igual 8, y otro más si es menor o igual a 5."
   ]
  },
  {
   "cell_type": "code",
   "execution_count": null,
   "metadata": {},
   "outputs": [],
   "source": []
  },
  {
   "cell_type": "markdown",
   "metadata": {},
   "source": [
    "## Loops\n",
    "#### FOR\n",
    "1. Escriba un loop que imprima los elementos, uno a uno de la lista_1."
   ]
  },
  {
   "cell_type": "code",
   "execution_count": null,
   "metadata": {},
   "outputs": [],
   "source": []
  },
  {
   "cell_type": "markdown",
   "metadata": {},
   "source": [
    "2. Construya un loop que imprima los números pares hasta el 20. (use _range()_)"
   ]
  },
  {
   "cell_type": "code",
   "execution_count": null,
   "metadata": {},
   "outputs": [],
   "source": []
  },
  {
   "cell_type": "markdown",
   "metadata": {},
   "source": [
    "1. Construya una lista llamada \"conteo\" que tenga los primeros mil numeros naturales **en una sola línea de código**. \n",
    "**Nota: recuerde que python trabaja con intervalos semiabiertos: \\[ , )**\n",
    "2. Imprima el tamaño de la lista \"conteo\""
   ]
  },
  {
   "cell_type": "code",
   "execution_count": null,
   "metadata": {},
   "outputs": [],
   "source": []
  },
  {
   "cell_type": "markdown",
   "metadata": {},
   "source": [
    "#### WHILE\n",
    "1. Construya un loop que genere e imprima en cada ciclo un entero aleatorio entre 0 y 100, cuando el número sea superior a 75 se debe detener el loop. "
   ]
  },
  {
   "cell_type": "code",
   "execution_count": null,
   "metadata": {},
   "outputs": [],
   "source": []
  },
  {
   "cell_type": "markdown",
   "metadata": {},
   "source": [
    "2. Construya un loop que genere e imprima un entero aleatorio entre 0 y 100, cuando el número sea superior a 75 se debe detener el loop. Si el número es múltiplo de 8 debe detenerse el loop (use _break_)"
   ]
  },
  {
   "cell_type": "code",
   "execution_count": null,
   "metadata": {},
   "outputs": [],
   "source": []
  },
  {
   "cell_type": "markdown",
   "metadata": {},
   "source": [
    "3. Construya un loop que le reste a 10 un valor de 1 en cada ciclo y lo imprima. Este número nunca debe ser negativo. Cuando el número sea par, debe saltarse la impresión en el ciclo (use _continue_)"
   ]
  },
  {
   "cell_type": "code",
   "execution_count": null,
   "metadata": {},
   "outputs": [],
   "source": []
  },
  {
   "cell_type": "markdown",
   "metadata": {},
   "source": [
    "### Funciones\n",
    "1. Defina una función que sume dos número, llamela mi_primera_funcion"
   ]
  },
  {
   "cell_type": "code",
   "execution_count": null,
   "metadata": {},
   "outputs": [],
   "source": []
  },
  {
   "cell_type": "code",
   "execution_count": null,
   "metadata": {},
   "outputs": [],
   "source": [
    "mi_primera_funcion(2,3)"
   ]
  },
  {
   "cell_type": "markdown",
   "metadata": {},
   "source": [
    "2. Construya una función que reciba un número y retorne la palabra \"par\" o \"impar\" dependiendo del insumo. Llame a la función _parImpar_. Pruébela sobre los números 2,3,7,12. Pista: busque que hace __%__. "
   ]
  },
  {
   "cell_type": "code",
   "execution_count": null,
   "metadata": {},
   "outputs": [],
   "source": []
  },
  {
   "cell_type": "code",
   "execution_count": null,
   "metadata": {},
   "outputs": [],
   "source": [
    "print(parImpar(2))\n",
    "print(parImpar(3))\n",
    "print(parImpar(7))\n",
    "print(parImpar(12))"
   ]
  },
  {
   "cell_type": "markdown",
   "metadata": {},
   "source": [
    "3. Construya una función que reciba un número y retorne la cantidad de divisores del mismo. En caso de ser un número primo, también debe retornar una cadena de caracteres que diga que es un número primo. Llame a la función divisores"
   ]
  },
  {
   "cell_type": "code",
   "execution_count": null,
   "metadata": {},
   "outputs": [],
   "source": []
  },
  {
   "cell_type": "code",
   "execution_count": null,
   "metadata": {},
   "outputs": [],
   "source": [
    "divisores(7)"
   ]
  },
  {
   "cell_type": "code",
   "execution_count": null,
   "metadata": {},
   "outputs": [],
   "source": [
    "divisores(8)"
   ]
  },
  {
   "cell_type": "markdown",
   "metadata": {},
   "source": [
    "4. Construya una función que reciba un número y retorne la **lista** de divisores del mismo. En caso de ser un número primo, también debe retornar una cadena de caracteres que diga que es un número primo. Llame a la función ListDivisores"
   ]
  },
  {
   "cell_type": "code",
   "execution_count": null,
   "metadata": {},
   "outputs": [],
   "source": []
  },
  {
   "cell_type": "code",
   "execution_count": null,
   "metadata": {},
   "outputs": [],
   "source": [
    "ListDivisores(7)"
   ]
  },
  {
   "cell_type": "code",
   "execution_count": null,
   "metadata": {},
   "outputs": [],
   "source": [
    "ListDivisores(8)"
   ]
  },
  {
   "cell_type": "markdown",
   "metadata": {},
   "source": [
    "4. Construya un función que reciba una cadena de caracteres y esta retorne cuantas letras tiene. Use loops."
   ]
  },
  {
   "cell_type": "code",
   "execution_count": null,
   "metadata": {},
   "outputs": [],
   "source": []
  },
  {
   "cell_type": "code",
   "execution_count": null,
   "metadata": {},
   "outputs": [],
   "source": [
    "count_letters('Python 3.7')"
   ]
  },
  {
   "cell_type": "markdown",
   "metadata": {},
   "source": [
    "5. Construya la función saludo que reciba su nombre y un parámetro booleano que indica si debe ir en mayúsculas o no."
   ]
  },
  {
   "cell_type": "code",
   "execution_count": null,
   "metadata": {},
   "outputs": [],
   "source": [
    "print(saludo('Mateo'))\n",
    "print(saludo('Mateo', mayus = True))"
   ]
  },
  {
   "cell_type": "markdown",
   "metadata": {},
   "source": [
    "## Ejercicios\n",
    "1. Aprenda a usar la función _map()_, busque su documentación. Aplicando _map()_ a la lista [8,23,56,86] muestre la lista de divisores de cada número.\n",
    "2. Construya una función que represente el lanzamiento de un dado de 6 caras.\n",
    "3. Escriba una función que construya el [coeficiente de variación](https://es.wikipedia.org/wiki/Coeficiente_de_variaci%C3%B3n) de un vector dado."
   ]
  },
  {
   "cell_type": "code",
   "execution_count": null,
   "metadata": {},
   "outputs": [],
   "source": []
  },
  {
   "cell_type": "code",
   "execution_count": null,
   "metadata": {},
   "outputs": [],
   "source": []
  },
  {
   "cell_type": "code",
   "execution_count": null,
   "metadata": {},
   "outputs": [],
   "source": []
  },
  {
   "cell_type": "markdown",
   "metadata": {},
   "source": [
    "### Magic Functions\n",
    "Estas funciones solo funcionan dentro de jupyter, no son de python, son de la interfaz"
   ]
  },
  {
   "cell_type": "markdown",
   "metadata": {},
   "source": [
    "- %whos: Permite ver que hay en el ambiente de trabajo\n",
    "- %time: Permite cuantificar el tiempo que dura en correr el código de una celda\n",
    "- %cd: Cambia el directorio\n",
    "- %dirs: Retorna el directorio actual\n",
    "- %lsmagic: Ver la lista de funciones mágicas\n",
    "- %timeit: Corre varias veces la celda para determinar un tiempo promedio e intervalo de confianza\n",
    "- ?: Es otro help (en mi opinión más interesante)"
   ]
  },
  {
   "cell_type": "code",
   "execution_count": null,
   "metadata": {},
   "outputs": [],
   "source": [
    "%whos"
   ]
  },
  {
   "cell_type": "code",
   "execution_count": null,
   "metadata": {},
   "outputs": [],
   "source": [
    "%%time\n",
    "# Permite cuantificar el tiempo que dura en correr el código de una celda\n",
    "ListDivisores(50)"
   ]
  },
  {
   "cell_type": "code",
   "execution_count": null,
   "metadata": {},
   "outputs": [],
   "source": [
    "%%timeit\n",
    "# Permite cuantificar el tiempo que dura en correr el código de una celda\n",
    "ListDivisores(50)"
   ]
  },
  {
   "cell_type": "code",
   "execution_count": null,
   "metadata": {},
   "outputs": [],
   "source": [
    "sum?"
   ]
  },
  {
   "cell_type": "code",
   "execution_count": null,
   "metadata": {},
   "outputs": [],
   "source": []
  }
 ],
 "metadata": {
  "kernelspec": {
   "display_name": "Python 3",
   "language": "python",
   "name": "python3"
  },
  "language_info": {
   "codemirror_mode": {
    "name": "ipython",
    "version": 3
   },
   "file_extension": ".py",
   "mimetype": "text/x-python",
   "name": "python",
   "nbconvert_exporter": "python",
   "pygments_lexer": "ipython3",
   "version": "3.7.4"
  }
 },
 "nbformat": 4,
 "nbformat_minor": 4
}
